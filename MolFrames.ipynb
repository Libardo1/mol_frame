{
 "cells": [
  {
   "cell_type": "code",
   "execution_count": 2,
   "metadata": {
    "ExecuteTime": {
     "end_time": "2017-09-01T10:35:46.194751Z",
     "start_time": "2017-09-01T10:35:46.136790Z"
    }
   },
   "outputs": [
    {
     "name": "stdout",
     "output_type": "stream",
     "text": [
      "misc_tools.apl_tools                          (commit: fa4ebb2 ( 2017-08-10 13:32:35 ))\n",
      "* reimported mol_frame_tools\n"
     ]
    }
   ],
   "source": [
    "%reload_ext autoreload\n",
    "%autoreload 2\n",
    "import warnings\n",
    "warnings.filterwarnings('ignore')\n",
    "\n",
    "import pandas as pd\n",
    "import os.path as op\n",
    "\n",
    "from mol_frame import mol_frame_tools as mft, viewers\n",
    "# from cellpainting import processing as cpp, tools as cpt, reporting as cpr"
   ]
  },
  {
   "cell_type": "code",
   "execution_count": 3,
   "metadata": {
    "ExecuteTime": {
     "end_time": "2017-09-01T10:35:47.567037Z",
     "start_time": "2017-09-01T10:35:47.526158Z"
    }
   },
   "outputs": [],
   "source": [
    "d = {\"Compound_Id\": [1,2], \"Smiles\": [\"c1ccccc1O\", \"c1ccccc1C(=O)N\"]}\n",
    "mf = mft.MolFrame(d)\n",
    "mf.add_mols()"
   ]
  },
  {
   "cell_type": "code",
   "execution_count": 4,
   "metadata": {
    "ExecuteTime": {
     "end_time": "2017-09-01T10:35:49.027245Z",
     "start_time": "2017-09-01T10:35:48.869812Z"
    }
   },
   "outputs": [
    {
     "data": {
      "text/html": [
       "<a href=\"molframe.html\">MolFrame</a>"
      ],
      "text/plain": [
       "<IPython.core.display.HTML object>"
      ]
     },
     "execution_count": 4,
     "metadata": {},
     "output_type": "execute_result"
    }
   ],
   "source": [
    "mf.view()"
   ]
  },
  {
   "cell_type": "code",
   "execution_count": 5,
   "metadata": {
    "ExecuteTime": {
     "end_time": "2017-09-01T10:36:02.364530Z",
     "start_time": "2017-09-01T10:36:02.308698Z"
    }
   },
   "outputs": [
    {
     "name": "stdout",
     "output_type": "stream",
     "text": [
      "* drop cols:             (    2 |    2)\n"
     ]
    },
    {
     "data": {
      "text/html": [
       "<table border=\"1\" class=\"dataframe\">\n",
       "  <thead>\n",
       "    <tr style=\"text-align: right;\">\n",
       "      <th></th>\n",
       "      <th>Mol</th>\n",
       "      <th>Compound_Id</th>\n",
       "      <th>Smiles</th>\n",
       "    </tr>\n",
       "  </thead>\n",
       "  <tbody>\n",
       "    <tr>\n",
       "      <th>0</th>\n",
       "      <td><img  src=\"data:image/png;base64,iVBORw0KGgoAAAANSUhEUgAAAHoAAABWCAYAAAAAN4KpAAAIrElEQVR4nO2db0wTZxzHfwUsijosRmygGI2xRomARpJhQgeCZLFgfINx05rsDXHBdZqYlDcGEyMpMTE1mxh5s3UyZ8heuIqJscz6J+I0kT8JdRCIBqVRwVmnVC2B++7FpQ6w1PZKe3e955t8c8R7fs+f+9i7e567ex4CQMwS8O+/A9u3A5mZwLx5wPLlQFUV8McfCJp+YAAgAsrKgu8HCCdO8Gl++AEpxCSu3r0Dff010cWLRGlpRKWlRFlZRB4PUXs70aVLRF99Bfr5ZyK1WiW0GAZabO3fz0P+4guiCxeItNr/YXo8oF27iH77jSgjg+jHHwUXkzQHVWUSqnv3QL/8QqTTETkc0yETEWVnq6itjWj5cqKmJiK3G0KLYqDF1E8/8dvvvyf67LPgp2WNRkXffksEENntgotip24x9ddf/La8PHS6sjKio0eJ7tz5eJ/bTbR3b/Bf+t9/f/hTEqAnJibAcRypo7jZkKWePeO3OTmh0+l0/Pb58+B5/PrrJ4sS/dTtdDpRUFBABQUFtH//foyOjgq+DilSZWVEgCqoT5z4kEw00IODg9i1axeMRiOVlZVRU1MT9fb2kl6vp8bGRvj9/sQHrtXy2ydPQqcbHp6eXoDiDtrn8+Ho0aPYsGEDeb1e6unpoVOnTqlKSkpUt27doubmZmpqaqK8vDxqa2tLbNiff85v29tDp/vzT35bVCS8rHiN/HAcB7vdDq1Wi7Vr1+Ly5cuzjuj4fD7U19dj/vz5KC8vR29v7+yjP3L2nTv8yJVOB/z7b/A2vnzJj5KpVIDb/X+aCEfG4tKgu3fvoqioCBqNBlarFX6/Pyxwjx8/hslkwrx581BTU4PR0dHEA753Lw+jpAR49mx6+zweYMsWfn9t7fR9UgI9PDwMk8mE5ORkmEwmjIyMCALlcrmQn5+PjIwM2Gw2TExMyA+42w20tHxcb5+PH9MmAtLSgMpKoKYGMBqBBQv4f9+9G5j545AC6Ldv38JqtWLRokXYunUrenp6ogYzOTkJu92OzMxMrFu3DleuXJEH7H/+Ab77jn9Q8c03wevMcUBrK/Dll8CyZXzazEwe9sWLwWPEBu1wOLBy5UqsXr0ara2tcw7D6/XCYrEgNTUVlZWVePjwoTSBT04CdjsPbuNG4OZNUes5Zxndv38fxcXFWLhwIerr6/Hu3buwG/bmzRs0NDRgbGws7Jj+/n5UVlZCrVbDbDbj9evX0gF+7RqQlwcsXQrYbIAELjVRZ/DixQuYzWakpKTAZDLh6dOnETfK7XZDr9dDp9OhpaUFHMeFnYfT6URubi6ysrJw9uxZTE5OindQHz8GTCb+1Gs2A69eiQ44atDj4+Ow2WxIT09HYWEhOjo6omrU1Pw2b96M27dvh51fNLFz4rExoL4emD8fKC+f3g2SiAUFOZ1OrF+/HtnZ2bDb7RH9Aj/lqWeI6upqDA0NhZ13NLGCHLiJyskB9HqgrU1ygAWB7uvrw/bt27FgwQJYLJaYXhc7OzthMBgEXfO7urpgMBiQlpYWcWy47ujoQLvJBGg0/HV4fFyykMMG/fLlS1gsFqjV6rjf6TocDqxatQo5OTmw2+0RlRtN7Gx+8uQJ9uzZg5SUFByqrQVkMogTcufUvuvGjRtx48YNURoV6JcvXrwYpaWlEfXLp8aWlJSgu7tbUBuiqYMUPOuOa9euIS8vD0uXLpXMaJTH45k20vb8+fOw6+TxeFBTU/OhdxBJbCzODKKDnjq+bDab8UpCXYSA7927J2jsPBC7ZcsWLFmy5JOx0dwnSM0f/hgbG5PVEyOO49Da2oqcnBzo9Xq0RXDHG4hdsWJF0Ni4373HA3Q0B0wKnvkf1B1BH3ZmbHd3t7j98ViCPnPmDNLT02Gz2TAu8S5CKEdzyRkcHMTOnTuh1Wqh1Wpx7ty5OR0bkILJYDDg+PHjCdOoaG4is7Ozcf78+YQ5FlOdRESUmpoq/BUViam0tFTV1dVFJ0+epIaGBiosLKSbN2+G9UpSUlJSQh2LqRL9LdBYKCkpSbVv3z5VX18fVVRU0LZt26iqqgqPHj1K7HfQQigk6OHhYZw+fVq2B0ej0aisVquqs7OT/H4/5ebmUmNjo2zbE41Cgh4YGKC6urp41SVmys3NVV29elV14cIF0mg0YldHFEniS414aceOHcr6EmSKEvIazfSxGGiFiIFWiBhohYiBVogYaIWIgVaIGGiFiIFWiBhohYiBVogYaIWIgVaIGGiFiIFWiBhohYiBVogYaIWIgVaIGGiFiIFWiBhohYiBVogYaIWIgVaIGGiFiIFWiBQF2uFwoLm5mX1NOVNr1qwhq9Uar7rETG63GxUVFdi9ezd5vV6xqyOKQoLW6XSq2tpa2X6B6PV6UVdXh02bNlFqaio9ePCALBaLbNsTjRLys1mO49DS0kKHDx8mnU5H7e3tVFxcrEjAAaUQEfn9frHrMWdyuVw4ePAgeTweOnLkCB04cICSk5PDgsxxXKyrJ54SZfqpoaGhqKef0uv1giaWl4M/OYue1D2XE8pFEis3z9poOUwRGe6CacFi5TxbYlSgA1bCpK9FRUVhTfqaSJ51hxSncZ65YFqk0zgLjU0Eh9yZaBOzy3FC9biADpgttSB/R5S4v78fRqNR8ounJNKE6qKADjiwHFJWVpayl0OSkQUHxnKBs8LCQsELnEUaqxRHnQFbslAenrOMorkuCl2E1Gg0SnMRUgl6zjMMLCscqzvdwLLCYvQA5OyYZBqLvuvUPn1BQQGuX7/OAIsNOuCZI1kjIyOC4LhcLuTn5yMjI0Myo3Ryc1wKETo2PXPc3ev1MsBSBg1E9rTJ5/PJ6kmaHBz3AkM9A575bPzSpUsMsFxBBzwwMIDq6uoPp2WXyzVtzcj3798zyHNoFSDua85OpxOHDh0ijuPIYDDQsWPHaNmyZYp+kS8WEh00EdHExAQ4jiO1Ws0Ax0j/AWtZNPIlhkauAAAAAElFTkSuQmCC\" alt=\"Mol\"/>\n",
       "</td>\n",
       "      <td>1</td>\n",
       "      <td>c1ccccc1O</td>\n",
       "    </tr>\n",
       "    <tr>\n",
       "      <th>1</th>\n",
       "      <td><img  src=\"data:image/png;base64,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\" alt=\"Mol\"/>\n",
       "</td>\n",
       "      <td>2</td>\n",
       "      <td>c1ccccc1C(=O)N</td>\n",
       "    </tr>\n",
       "  </tbody>\n",
       "</table>"
      ],
      "text/plain": [
       "<IPython.core.display.HTML object>"
      ]
     },
     "execution_count": 5,
     "metadata": {},
     "output_type": "execute_result"
    }
   ],
   "source": [
    "mf.show()"
   ]
  },
  {
   "cell_type": "code",
   "execution_count": null,
   "metadata": {
    "collapsed": true
   },
   "outputs": [],
   "source": []
  }
 ],
 "metadata": {
  "hide_input": false,
  "kernelspec": {
   "display_name": "Python 3",
   "language": "python",
   "name": "python3"
  },
  "language_info": {
   "codemirror_mode": {
    "name": "ipython",
    "version": 3
   },
   "file_extension": ".py",
   "mimetype": "text/x-python",
   "name": "python",
   "nbconvert_exporter": "python",
   "pygments_lexer": "ipython3",
   "version": "3.6.2"
  },
  "toc": {
   "colors": {
    "hover_highlight": "#DAA520",
    "navigate_num": "#000000",
    "navigate_text": "#333333",
    "running_highlight": "#FF0000",
    "selected_highlight": "#FFD700",
    "sidebar_border": "#EEEEEE",
    "wrapper_background": "#FFFFFF"
   },
   "moveMenuLeft": true,
   "nav_menu": {
    "height": "12px",
    "width": "252px"
   },
   "navigate_menu": true,
   "number_sections": true,
   "sideBar": true,
   "threshold": 4,
   "toc_cell": false,
   "toc_section_display": "block",
   "toc_window_display": false,
   "widenNotebook": false
  }
 },
 "nbformat": 4,
 "nbformat_minor": 2
}
